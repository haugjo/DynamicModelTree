{
 "cells": [
  {
   "cell_type": "code",
   "execution_count": 2,
   "metadata": {},
   "outputs": [],
   "source": [
    "import pandas as pd\n",
    "from sklearn.preprocessing import MinMaxScaler\n",
    "from skmultiflow.data import ConceptDriftStream, \\\n",
    "    AGRAWALGenerator, \\\n",
    "    HyperplaneGenerator, \\\n",
    "    SEAGenerator"
   ]
  },
  {
   "cell_type": "code",
   "execution_count": 3,
   "metadata": {},
   "outputs": [],
   "source": [
    "def scale_and_save(x, y, name):  # normalize and save the data being provided\n",
    "    data = pd.DataFrame(MinMaxScaler().fit_transform(x.copy()))  # normalize data\n",
    "    data['class'] = y.astype(int)\n",
    "    \n",
    "    data.to_csv('./data/synthetic/'+name+'.csv', index=False, header=False)"
   ]
  },
  {
   "cell_type": "markdown",
   "metadata": {},
   "source": [
    "## SEA Generator (Sudden Drift)\n",
    "1.000.000 instances, 3 features, Drift @ 200.000,400.000,600.000,800.000 observations"
   ]
  },
  {
   "cell_type": "code",
   "execution_count": 6,
   "metadata": {},
   "outputs": [
    {
     "name": "stderr",
     "output_type": "stream",
     "text": [
      "C:\\Users\\johan\\Miniconda3\\lib\\site-packages\\skmultiflow\\data\\base_stream.py:194: FutureWarning: 'prepare_for_use' has been deprecated in v0.5.0 and will be removed in v0.7.0.\n",
      "New instances of the Stream class are now ready to use after instantiation.\n",
      "  category=FutureWarning)\n",
      "C:\\Users\\johan\\Miniconda3\\lib\\site-packages\\skmultiflow\\data\\concept_drift_stream.py:153: RuntimeWarning: overflow encountered in exp\n",
      "  probability_drift = 1.0 / (1.0 + np.exp(x))\n"
     ]
    }
   ],
   "source": [
    "# Drift @ 800.000\n",
    "alternate3 = ConceptDriftStream(\n",
    "    stream=SEAGenerator(balance_classes=False, classification_function=3, random_state=112, noise_percentage=0.1),\n",
    "    drift_stream=SEAGenerator(balance_classes=False, classification_function=0, random_state=112, noise_percentage=0.1),\n",
    "    position=200000,\n",
    "    width=1,\n",
    "    random_state=0)\n",
    "\n",
    "# Drift @ 600.000\n",
    "alternate2 = ConceptDriftStream(\n",
    "    stream=SEAGenerator(balance_classes=False, classification_function=2, random_state=112, noise_percentage=0.1),\n",
    "    drift_stream=alternate3,\n",
    "    position=200000,\n",
    "    width=1,\n",
    "    random_state=0)\n",
    "\n",
    "# Drift @ 400.000\n",
    "alternate1 = ConceptDriftStream(\n",
    "    stream=SEAGenerator(balance_classes=False, classification_function=1, random_state=112, noise_percentage=0.1),\n",
    "    drift_stream=alternate2,\n",
    "    position=200000,\n",
    "    width=1,\n",
    "    random_state=0)\n",
    "\n",
    "# Drift @ 200.000\n",
    "stream = ConceptDriftStream(\n",
    "    stream=SEAGenerator(balance_classes=False, classification_function=0, random_state=112, noise_percentage=0.1),\n",
    "    drift_stream=alternate1,\n",
    "    position=200000,\n",
    "    width=1,\n",
    "    random_state=0)\n",
    "\n",
    "stream.prepare_for_use()\n",
    "x, y = stream.next_sample(1000000)\n",
    "\n",
    "# Normalize and save data\n",
    "scale_and_save(x, y, 'sea')"
   ]
  },
  {
   "cell_type": "markdown",
   "metadata": {},
   "source": [
    "## Agrawal Generator (Incremental Drift)\n",
    "1.000.000 instances, 9 features, Drift @ 100.000-200.000, 300.000-500.000, 800.000-900.000"
   ]
  },
  {
   "cell_type": "code",
   "execution_count": 7,
   "metadata": {},
   "outputs": [
    {
     "name": "stderr",
     "output_type": "stream",
     "text": [
      "C:\\Users\\johan\\Miniconda3\\lib\\site-packages\\skmultiflow\\data\\base_stream.py:194: FutureWarning: 'prepare_for_use' has been deprecated in v0.5.0 and will be removed in v0.7.0.\n",
      "New instances of the Stream class are now ready to use after instantiation.\n",
      "  category=FutureWarning)\n"
     ]
    }
   ],
   "source": [
    "# Drift @ 800.000-900.000\n",
    "alternate2 = ConceptDriftStream(\n",
    "    stream=AGRAWALGenerator(balance_classes=False, classification_function=2, random_state=112, perturbation=0.1),\n",
    "    drift_stream=AGRAWALGenerator(balance_classes=False, classification_function=3, random_state=112, perturbation=0.1),\n",
    "    position=300000,\n",
    "    width=100000,\n",
    "    random_state=0)\n",
    "\n",
    "# Drift @ 300.000-500.000\n",
    "alternate1 = ConceptDriftStream(\n",
    "    stream=AGRAWALGenerator(balance_classes=False, classification_function=1, random_state=112, perturbation=0.1),\n",
    "    drift_stream=alternate2,\n",
    "    position=100000,\n",
    "    width=200000,\n",
    "    random_state=0)\n",
    "\n",
    "# Drift @ 100.000-200.000\n",
    "stream = ConceptDriftStream(\n",
    "    stream=AGRAWALGenerator(balance_classes=False, classification_function=0, random_state=112, perturbation=0.1),\n",
    "    drift_stream=alternate1,\n",
    "    position=100000,\n",
    "    width=100000,\n",
    "    random_state=0)\n",
    "\n",
    "stream.prepare_for_use()\n",
    "x, y = stream.next_sample(1000000)\n",
    "\n",
    "# Normalize and save data\n",
    "scale_and_save(x, y, 'agrawal_inc')"
   ]
  },
  {
   "cell_type": "markdown",
   "metadata": {},
   "source": [
    "## Hyperplane Generator (Incremental Drift)\n",
    "500.000 instances, 50 features"
   ]
  },
  {
   "cell_type": "code",
   "execution_count": 9,
   "metadata": {
    "pycharm": {
     "name": "#%%\n"
    }
   },
   "outputs": [
    {
     "name": "stderr",
     "output_type": "stream",
     "text": [
      "C:\\Users\\johan\\Miniconda3\\lib\\site-packages\\skmultiflow\\data\\base_stream.py:194: FutureWarning: 'prepare_for_use' has been deprecated in v0.5.0 and will be removed in v0.7.0.\n",
      "New instances of the Stream class are now ready to use after instantiation.\n",
      "  category=FutureWarning)\n"
     ]
    }
   ],
   "source": [
    "stream = HyperplaneGenerator(random_state=112,\n",
    "                             n_features=50,\n",
    "                             n_drift_features=25,\n",
    "                             mag_change=0.5, \n",
    "                             noise_percentage=0.1,\n",
    "                             sigma_percentage=0.1)\n",
    "\n",
    "stream.prepare_for_use()\n",
    "\n",
    "x, y = stream.next_sample(500000)\n",
    "\n",
    "# Normalize and save data\n",
    "scale_and_save(x, y, 'hyperplane')"
   ]
  }
 ],
 "metadata": {
  "kernelspec": {
   "display_name": "Python 3 (ipykernel)",
   "language": "python",
   "name": "python3"
  },
  "language_info": {
   "codemirror_mode": {
    "name": "ipython",
    "version": 3
   },
   "file_extension": ".py",
   "mimetype": "text/x-python",
   "name": "python",
   "nbconvert_exporter": "python",
   "pygments_lexer": "ipython3",
   "version": "3.7.11"
  }
 },
 "nbformat": 4,
 "nbformat_minor": 4
}