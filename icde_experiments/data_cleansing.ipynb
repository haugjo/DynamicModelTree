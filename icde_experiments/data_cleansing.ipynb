{
 "cells": [
  {
   "cell_type": "code",
   "execution_count": 1,
   "metadata": {},
   "outputs": [],
   "source": [
    "import numpy as np\n",
    "import pandas as pd\n",
    "from sklearn.preprocessing import MinMaxScaler"
   ]
  },
  {
   "cell_type": "code",
   "execution_count": 14,
   "metadata": {
    "pycharm": {
     "name": "#%%\n"
    }
   },
   "outputs": [],
   "source": [
    "# Electricity\n",
    "elec = pd.read_csv('./data/raw/electricity-normalized.csv')\n",
    "elec['class'] = pd.factorize(elec['class'])[0]  # factorize target\n",
    "elec.iloc[:, :-1] = MinMaxScaler().fit_transform(elec.iloc[:, :-1])  # normalize\n",
    "elec.to_csv('./data/electricity.csv', index=None)"
   ]
  },
  {
   "cell_type": "code",
   "execution_count": 34,
   "metadata": {
    "pycharm": {
     "name": "#%%\n"
    }
   },
   "outputs": [],
   "source": [
    "# Airlines\n",
    "air = pd.read_csv('./data/raw/airlines.csv')\n",
    "air['Airline'] = pd.factorize(air['Airline'])[0]  # factorize airline\n",
    "\n",
    "# Factorize/normalize airports in one go\n",
    "airports = np.append(air['AirportFrom'], air['AirportTo'])\n",
    "airports = pd.factorize(airports)[0]\n",
    "airports = MinMaxScaler().fit_transform(airports.reshape(-1, 1))  # normalize\n",
    "air['AirportFrom'] = airports[:air.shape[0]]  # reassign attributes\n",
    "air['AirportTo'] = airports[air.shape[0]:]\n",
    "\n",
    "# Normalize remaining attributes\n",
    "air[['Airline', 'Flight', 'DayOfWeek', 'Time', 'Length']] = MinMaxScaler().fit_transform(air[['Airline', 'Flight', 'DayOfWeek', 'Time', 'Length']])\n",
    "\n",
    "air.to_csv('./data/airlines.csv', index=None)"
   ]
  },
  {
   "cell_type": "code",
   "execution_count": 57,
   "metadata": {
    "pycharm": {
     "name": "#%%\n"
    }
   },
   "outputs": [],
   "source": [
    "# Bank Marketing\n",
    "bank = pd.read_csv('./data/raw/bank_marketing.csv')\n",
    "\n",
    "num_attr = ['V1','V6','V10','V12','V13','V14','V15']\n",
    "cat = bank.drop(num_attr, axis=1)\n",
    "for i in cat.columns:  # factorize categorical variables\n",
    "    cat[i] = pd.factorize(cat[i])[0]\n",
    "bank[cat.columns] = cat\n",
    "\n",
    "bank.iloc[:, :-1] = MinMaxScaler().fit_transform(bank.iloc[:, :-1])  # normalize\n",
    "bank.to_csv('./data/bank_marketing.csv', index=None)\n"
   ]
  },
  {
   "cell_type": "code",
   "execution_count": 85,
   "metadata": {
    "pycharm": {
     "name": "#%%\n"
    }
   },
   "outputs": [
    {
     "data": {
      "text/plain": [
       "(15762, 77)"
      ]
     },
     "execution_count": 85,
     "metadata": {},
     "output_type": "execute_result"
    }
   ],
   "source": [
    "# IQ\n",
    "iq = pd.read_csv('./data/raw/iq_data.csv')\n",
    "iq = iq.sort_values(['task_id'])  # sort by task\n",
    "iq['cft_task'] = iq['cft_task'].astype(int)  # make target int\n",
    "iq.iloc[:, :-1] = MinMaxScaler().fit_transform(iq.iloc[:, :-1])\n",
    "iq.to_csv('./data/iq.csv', index=None)"
   ]
  },
  {
   "cell_type": "code",
   "execution_count": 98,
   "metadata": {
    "pycharm": {
     "name": "#%%\n"
    }
   },
   "outputs": [],
   "source": [
    "# Poker Hand\n",
    "poker = pd.read_csv('./data/raw/poker_hand.csv')\n",
    "poker['Class'] = poker['Class'] - 1  # let classes begin with index 0\n",
    "poker.iloc[:, :-1] = MinMaxScaler().fit_transform(poker.iloc[:, :-1]) # normalize\n",
    "poker.to_csv('./data/poker.csv', index=None)"
   ]
  },
  {
   "cell_type": "code",
   "execution_count": 15,
   "metadata": {
    "pycharm": {
     "name": "#%%\n"
    }
   },
   "outputs": [],
   "source": [
    "# KDD\n",
    "kdd = pd.read_csv('./data/raw/KDDCup99.csv')\n",
    "\n",
    "cat_attr = kdd.select_dtypes(include=['object']).columns\n",
    "for i in cat_attr:\n",
    "    kdd[i] = pd.factorize(kdd[i])[0]  # factorize categorical variables\n",
    "\n",
    "kdd.iloc[:, :-1] = MinMaxScaler().fit_transform(kdd.iloc[:, :-1]) # normalize\n",
    "kdd = kdd.sample(frac=1)  # shuffle data\n",
    "kdd.to_csv('./data/kdd.csv', index=None)"
   ]
  },
  {
   "cell_type": "code",
   "execution_count": 25,
   "metadata": {
    "pycharm": {
     "name": "#%%\n"
    }
   },
   "outputs": [],
   "source": [
    "# Covertype\n",
    "cover = pd.read_csv('./data/raw/covertype.csv')\n",
    "cover['class'] = cover['class'] - 1  # let classes begin with index 0\n",
    "cover.iloc[:, :-1] = MinMaxScaler().fit_transform(cover.iloc[:, :-1]) # normalize\n",
    "cover.to_csv('./data/covertype.csv', index=None)"
   ]
  },
  {
   "cell_type": "code",
   "execution_count": 15,
   "metadata": {},
   "outputs": [],
   "source": [
    "# Gas Sensor Drift\n",
    "gas = pd.read_csv('./data/raw/gas_sensor_drift.csv')\n",
    "gas['Class'] = gas['Class'] - 1  # let classes begin with index 0\n",
    "gas.iloc[:, :-1] = MinMaxScaler().fit_transform(gas.iloc[:, :-1]) # normalize\n",
    "gas.to_csv('./data/gas.csv', index=None)"
   ]
  },
  {
   "cell_type": "code",
   "execution_count": 33,
   "metadata": {},
   "outputs": [],
   "source": [
    "# Insects Abrupt (Unbalanced)\n",
    "insects_abrupt = pd.read_csv('./data/raw/insects_abrupt_imbalanced.csv', header=None, sep=';')\n",
    "insects_abrupt.iloc[:,-1] = pd.factorize(insects_abrupt.iloc[:,-1])[0]  # factorize target\n",
    "insects_abrupt.to_csv('./data/insects_abrupt.csv', index=None)"
   ]
  },
  {
   "cell_type": "code",
   "execution_count": 8,
   "metadata": {},
   "outputs": [
    {
     "data": {
      "text/plain": [
       "cx-quinq-male           134717\n",
       "ae-aegypti-female       125354\n",
       "ae-aegypti-male          83794\n",
       "cx-quinq-female          64895\n",
       "ae-albopictus-female     29953\n",
       "ae-albopictus-male       13331\n",
       "Name: 33, dtype: int64"
      ]
     },
     "execution_count": 8,
     "metadata": {},
     "output_type": "execute_result"
    }
   ],
   "source": [
    "insects_inc = pd.read_csv('./data/raw/insects_incremental_imbalanced.csv', header=None, sep=';')\n",
    "insects_inc.iloc[:,-1].value_counts()"
   ]
  },
  {
   "cell_type": "code",
   "execution_count": 34,
   "metadata": {},
   "outputs": [],
   "source": [
    "# Insects Incremental (Unbalanced)\n",
    "insects_inc = pd.read_csv('./data/raw/insects_incremental_imbalanced.csv', header=None, sep=';')\n",
    "insects_inc.iloc[:,-1] = pd.factorize(insects_inc.iloc[:,-1])[0]  # factorize target\n",
    "insects_inc.to_csv('./data/insects_inc.csv', index=None)"
   ]
  }
 ],
 "metadata": {
  "kernelspec": {
   "display_name": "Python 3 (ipykernel)",
   "language": "python",
   "name": "python3"
  },
  "language_info": {
   "codemirror_mode": {
    "name": "ipython",
    "version": 3
   },
   "file_extension": ".py",
   "mimetype": "text/x-python",
   "name": "python",
   "nbconvert_exporter": "python",
   "pygments_lexer": "ipython3",
   "version": "3.7.11"
  }
 },
 "nbformat": 4,
 "nbformat_minor": 1
}